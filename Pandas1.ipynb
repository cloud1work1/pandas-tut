{
  "nbformat": 4,
  "nbformat_minor": 0,
  "metadata": {
    "colab": {
      "name": "Pandas1.ipynb",
      "provenance": [],
      "authorship_tag": "ABX9TyNCJKBqJsK4jG6/gBy+QSm3",
      "include_colab_link": true
    },
    "kernelspec": {
      "name": "python3",
      "display_name": "Python 3"
    }
  },
  "cells": [
    {
      "cell_type": "markdown",
      "metadata": {
        "id": "view-in-github",
        "colab_type": "text"
      },
      "source": [
        "<a href=\"https://colab.research.google.com/github/cloud1work1/pandas-tut/blob/main/Pandas1.ipynb\" target=\"_parent\"><img src=\"https://colab.research.google.com/assets/colab-badge.svg\" alt=\"Open In Colab\"/></a>"
      ]
    },
    {
      "cell_type": "code",
      "metadata": {
        "id": "CjRBkhHIwc38"
      },
      "source": [
        "import pandas as pd\r\n",
        "import numpy as np"
      ],
      "execution_count": 4,
      "outputs": []
    },
    {
      "cell_type": "code",
      "metadata": {
        "id": "hPCNVQF-wjKi",
        "colab": {
          "base_uri": "https://localhost:8080/"
        },
        "outputId": "9d611892-990a-4413-bc79-f146d40062ea"
      },
      "source": [
        "list = [1,2,4,6,10,7]\r\n",
        "series=pd.Series(list)\r\n",
        "series"
      ],
      "execution_count": null,
      "outputs": [
        {
          "output_type": "execute_result",
          "data": {
            "text/plain": [
              "0     1\n",
              "1     2\n",
              "2     4\n",
              "3     6\n",
              "4    10\n",
              "5     7\n",
              "dtype: int64"
            ]
          },
          "metadata": {
            "tags": []
          },
          "execution_count": 3
        }
      ]
    },
    {
      "cell_type": "code",
      "metadata": {
        "colab": {
          "base_uri": "https://localhost:8080/"
        },
        "id": "S0jvbwluyyc_",
        "outputId": "b50e4b37-2375-46b4-fd9d-7b7b7f36129c"
      },
      "source": [
        "dict = {'a':'m', 'b':'i', 'c':'t', 'd':'c', 'e':'h', 'f':'l'}\r\n",
        "series2=pd.Series(dict)\r\n",
        "series2"
      ],
      "execution_count": null,
      "outputs": [
        {
          "output_type": "execute_result",
          "data": {
            "text/plain": [
              "a    m\n",
              "b    i\n",
              "c    t\n",
              "d    c\n",
              "e    h\n",
              "f    l\n",
              "dtype: object"
            ]
          },
          "metadata": {
            "tags": []
          },
          "execution_count": 4
        }
      ]
    },
    {
      "cell_type": "code",
      "metadata": {
        "colab": {
          "base_uri": "https://localhost:8080/"
        },
        "id": "0a3KWac6zWtc",
        "outputId": "18c58337-d45e-48a7-e38e-58397ac57226"
      },
      "source": [
        "scalarSeries = pd.Series(8, index=[1,2,3,4,5])\r\n",
        "scalarSeries"
      ],
      "execution_count": null,
      "outputs": [
        {
          "output_type": "execute_result",
          "data": {
            "text/plain": [
              "1    8\n",
              "2    8\n",
              "3    8\n",
              "4    8\n",
              "5    8\n",
              "dtype: int64"
            ]
          },
          "metadata": {
            "tags": []
          },
          "execution_count": 5
        }
      ]
    },
    {
      "cell_type": "code",
      "metadata": {
        "colab": {
          "base_uri": "https://localhost:8080/"
        },
        "id": "GrrNl8QK0zqO",
        "outputId": "766e9eba-7c8e-4c1f-85c2-19005beef246"
      },
      "source": [
        "# All values are NaN\r\n",
        "seriesIndex = pd.Series(dict, index=[1,2,3])\r\n",
        "seriesIndex \r\n"
      ],
      "execution_count": null,
      "outputs": [
        {
          "output_type": "execute_result",
          "data": {
            "text/plain": [
              "1    NaN\n",
              "2    NaN\n",
              "3    NaN\n",
              "dtype: object"
            ]
          },
          "metadata": {
            "tags": []
          },
          "execution_count": 9
        }
      ]
    },
    {
      "cell_type": "code",
      "metadata": {
        "id": "QR-ed3OR1wbg",
        "colab": {
          "base_uri": "https://localhost:8080/"
        },
        "outputId": "9a50304c-55a5-4eff-a801-6e11980e34f4"
      },
      "source": [
        "# Only values matching index\r\n",
        "dictN = {1:'a', 2:'j', 3:'i', 4:'n',5:'k',6:'y',7:'a'}\r\n",
        "seriesIndex=pd.Series(dictN,index=[1,2,4])\r\n",
        "seriesIndex"
      ],
      "execution_count": null,
      "outputs": [
        {
          "output_type": "execute_result",
          "data": {
            "text/plain": [
              "1    a\n",
              "2    j\n",
              "4    n\n",
              "dtype: object"
            ]
          },
          "metadata": {
            "tags": []
          },
          "execution_count": 10
        }
      ]
    },
    {
      "cell_type": "code",
      "metadata": {
        "colab": {
          "base_uri": "https://localhost:8080/",
          "height": 204
        },
        "id": "rzZqWN_QO4is",
        "outputId": "ff1de55b-68d6-4e75-81f6-d60364ae34a9"
      },
      "source": [
        "listData = [{'a':i, 'b':2*i, 'c':3*i} for i in range(5)]\r\n",
        "listDF = pd.DataFrame(listData)\r\n",
        "listDF"
      ],
      "execution_count": 6,
      "outputs": [
        {
          "output_type": "execute_result",
          "data": {
            "text/html": [
              "<div>\n",
              "<style scoped>\n",
              "    .dataframe tbody tr th:only-of-type {\n",
              "        vertical-align: middle;\n",
              "    }\n",
              "\n",
              "    .dataframe tbody tr th {\n",
              "        vertical-align: top;\n",
              "    }\n",
              "\n",
              "    .dataframe thead th {\n",
              "        text-align: right;\n",
              "    }\n",
              "</style>\n",
              "<table border=\"1\" class=\"dataframe\">\n",
              "  <thead>\n",
              "    <tr style=\"text-align: right;\">\n",
              "      <th></th>\n",
              "      <th>a</th>\n",
              "      <th>b</th>\n",
              "      <th>c</th>\n",
              "    </tr>\n",
              "  </thead>\n",
              "  <tbody>\n",
              "    <tr>\n",
              "      <th>0</th>\n",
              "      <td>0</td>\n",
              "      <td>0</td>\n",
              "      <td>0</td>\n",
              "    </tr>\n",
              "    <tr>\n",
              "      <th>1</th>\n",
              "      <td>1</td>\n",
              "      <td>2</td>\n",
              "      <td>3</td>\n",
              "    </tr>\n",
              "    <tr>\n",
              "      <th>2</th>\n",
              "      <td>2</td>\n",
              "      <td>4</td>\n",
              "      <td>6</td>\n",
              "    </tr>\n",
              "    <tr>\n",
              "      <th>3</th>\n",
              "      <td>3</td>\n",
              "      <td>6</td>\n",
              "      <td>9</td>\n",
              "    </tr>\n",
              "    <tr>\n",
              "      <th>4</th>\n",
              "      <td>4</td>\n",
              "      <td>8</td>\n",
              "      <td>12</td>\n",
              "    </tr>\n",
              "  </tbody>\n",
              "</table>\n",
              "</div>"
            ],
            "text/plain": [
              "   a  b   c\n",
              "0  0  0   0\n",
              "1  1  2   3\n",
              "2  2  4   6\n",
              "3  3  6   9\n",
              "4  4  8  12"
            ]
          },
          "metadata": {
            "tags": []
          },
          "execution_count": 6
        }
      ]
    },
    {
      "cell_type": "code",
      "metadata": {
        "colab": {
          "base_uri": "https://localhost:8080/",
          "height": 173
        },
        "id": "RHOQT2_pRVmz",
        "outputId": "2999942a-02f0-4e8f-c1ac-ae4d8f96adc3"
      },
      "source": [
        "seriesData = pd.Series({'Karnataka':'Bengaluru', 'Gujarat':'Ahmedabad', 'Maharashtra':'Mumbai', 'Assam':'Guwahati'})\r\n",
        "seriesData2 = pd.Series({'Karnataka':'Kannada', 'Gujarat':'Gujrati', 'Maharashtra':'Marathi', 'Assam':'Assamese'})\r\n",
        "seriesDF = pd.DataFrame({'Capital':seriesData, 'Language':seriesData2})\r\n",
        "seriesDF"
      ],
      "execution_count": 8,
      "outputs": [
        {
          "output_type": "execute_result",
          "data": {
            "text/html": [
              "<div>\n",
              "<style scoped>\n",
              "    .dataframe tbody tr th:only-of-type {\n",
              "        vertical-align: middle;\n",
              "    }\n",
              "\n",
              "    .dataframe tbody tr th {\n",
              "        vertical-align: top;\n",
              "    }\n",
              "\n",
              "    .dataframe thead th {\n",
              "        text-align: right;\n",
              "    }\n",
              "</style>\n",
              "<table border=\"1\" class=\"dataframe\">\n",
              "  <thead>\n",
              "    <tr style=\"text-align: right;\">\n",
              "      <th></th>\n",
              "      <th>Capital</th>\n",
              "      <th>Language</th>\n",
              "    </tr>\n",
              "  </thead>\n",
              "  <tbody>\n",
              "    <tr>\n",
              "      <th>Karnataka</th>\n",
              "      <td>Bengaluru</td>\n",
              "      <td>Kannada</td>\n",
              "    </tr>\n",
              "    <tr>\n",
              "      <th>Gujarat</th>\n",
              "      <td>Ahmedabad</td>\n",
              "      <td>Gujrati</td>\n",
              "    </tr>\n",
              "    <tr>\n",
              "      <th>Maharashtra</th>\n",
              "      <td>Mumbai</td>\n",
              "      <td>Marathi</td>\n",
              "    </tr>\n",
              "    <tr>\n",
              "      <th>Assam</th>\n",
              "      <td>Guwahati</td>\n",
              "      <td>Assamese</td>\n",
              "    </tr>\n",
              "  </tbody>\n",
              "</table>\n",
              "</div>"
            ],
            "text/plain": [
              "               Capital  Language\n",
              "Karnataka    Bengaluru   Kannada\n",
              "Gujarat      Ahmedabad   Gujrati\n",
              "Maharashtra     Mumbai   Marathi\n",
              "Assam         Guwahati  Assamese"
            ]
          },
          "metadata": {
            "tags": []
          },
          "execution_count": 8
        }
      ]
    },
    {
      "cell_type": "code",
      "metadata": {
        "colab": {
          "base_uri": "https://localhost:8080/",
          "height": 235
        },
        "id": "WV1UpG1bTM4t",
        "outputId": "d8241e88-cc55-4b3b-bef1-022e6170d0c5"
      },
      "source": [
        "npDF = pd.DataFrame(np.random.randn(6,3), index=['a','b','c','d','e','f'], columns=['One', 'Two', 'Three'])\r\n",
        "npDF"
      ],
      "execution_count": 9,
      "outputs": [
        {
          "output_type": "execute_result",
          "data": {
            "text/html": [
              "<div>\n",
              "<style scoped>\n",
              "    .dataframe tbody tr th:only-of-type {\n",
              "        vertical-align: middle;\n",
              "    }\n",
              "\n",
              "    .dataframe tbody tr th {\n",
              "        vertical-align: top;\n",
              "    }\n",
              "\n",
              "    .dataframe thead th {\n",
              "        text-align: right;\n",
              "    }\n",
              "</style>\n",
              "<table border=\"1\" class=\"dataframe\">\n",
              "  <thead>\n",
              "    <tr style=\"text-align: right;\">\n",
              "      <th></th>\n",
              "      <th>One</th>\n",
              "      <th>Two</th>\n",
              "      <th>Three</th>\n",
              "    </tr>\n",
              "  </thead>\n",
              "  <tbody>\n",
              "    <tr>\n",
              "      <th>a</th>\n",
              "      <td>-0.439029</td>\n",
              "      <td>0.579382</td>\n",
              "      <td>-0.568229</td>\n",
              "    </tr>\n",
              "    <tr>\n",
              "      <th>b</th>\n",
              "      <td>-0.350949</td>\n",
              "      <td>-0.692328</td>\n",
              "      <td>1.093605</td>\n",
              "    </tr>\n",
              "    <tr>\n",
              "      <th>c</th>\n",
              "      <td>1.409070</td>\n",
              "      <td>1.177394</td>\n",
              "      <td>1.474723</td>\n",
              "    </tr>\n",
              "    <tr>\n",
              "      <th>d</th>\n",
              "      <td>0.284731</td>\n",
              "      <td>-0.053452</td>\n",
              "      <td>-0.896189</td>\n",
              "    </tr>\n",
              "    <tr>\n",
              "      <th>e</th>\n",
              "      <td>-0.271910</td>\n",
              "      <td>1.915697</td>\n",
              "      <td>-0.197973</td>\n",
              "    </tr>\n",
              "    <tr>\n",
              "      <th>f</th>\n",
              "      <td>1.503670</td>\n",
              "      <td>0.256384</td>\n",
              "      <td>-0.590004</td>\n",
              "    </tr>\n",
              "  </tbody>\n",
              "</table>\n",
              "</div>"
            ],
            "text/plain": [
              "        One       Two     Three\n",
              "a -0.439029  0.579382 -0.568229\n",
              "b -0.350949 -0.692328  1.093605\n",
              "c  1.409070  1.177394  1.474723\n",
              "d  0.284731 -0.053452 -0.896189\n",
              "e -0.271910  1.915697 -0.197973\n",
              "f  1.503670  0.256384 -0.590004"
            ]
          },
          "metadata": {
            "tags": []
          },
          "execution_count": 9
        }
      ]
    },
    {
      "cell_type": "code",
      "metadata": {
        "colab": {
          "base_uri": "https://localhost:8080/",
          "height": 204
        },
        "id": "LpPxwiy5Ty-n",
        "outputId": "5f8c9fb1-9b01-4475-c7fa-ae5544c39224"
      },
      "source": [
        "A_Df = pd.DataFrame(np.zeros(5, dtype=[('A','i'), ('B','f')]))\r\n",
        "A_Df"
      ],
      "execution_count": 10,
      "outputs": [
        {
          "output_type": "execute_result",
          "data": {
            "text/html": [
              "<div>\n",
              "<style scoped>\n",
              "    .dataframe tbody tr th:only-of-type {\n",
              "        vertical-align: middle;\n",
              "    }\n",
              "\n",
              "    .dataframe tbody tr th {\n",
              "        vertical-align: top;\n",
              "    }\n",
              "\n",
              "    .dataframe thead th {\n",
              "        text-align: right;\n",
              "    }\n",
              "</style>\n",
              "<table border=\"1\" class=\"dataframe\">\n",
              "  <thead>\n",
              "    <tr style=\"text-align: right;\">\n",
              "      <th></th>\n",
              "      <th>A</th>\n",
              "      <th>B</th>\n",
              "    </tr>\n",
              "  </thead>\n",
              "  <tbody>\n",
              "    <tr>\n",
              "      <th>0</th>\n",
              "      <td>0</td>\n",
              "      <td>0.0</td>\n",
              "    </tr>\n",
              "    <tr>\n",
              "      <th>1</th>\n",
              "      <td>0</td>\n",
              "      <td>0.0</td>\n",
              "    </tr>\n",
              "    <tr>\n",
              "      <th>2</th>\n",
              "      <td>0</td>\n",
              "      <td>0.0</td>\n",
              "    </tr>\n",
              "    <tr>\n",
              "      <th>3</th>\n",
              "      <td>0</td>\n",
              "      <td>0.0</td>\n",
              "    </tr>\n",
              "    <tr>\n",
              "      <th>4</th>\n",
              "      <td>0</td>\n",
              "      <td>0.0</td>\n",
              "    </tr>\n",
              "  </tbody>\n",
              "</table>\n",
              "</div>"
            ],
            "text/plain": [
              "   A    B\n",
              "0  0  0.0\n",
              "1  0  0.0\n",
              "2  0  0.0\n",
              "3  0  0.0\n",
              "4  0  0.0"
            ]
          },
          "metadata": {
            "tags": []
          },
          "execution_count": 10
        }
      ]
    }
  ]
}