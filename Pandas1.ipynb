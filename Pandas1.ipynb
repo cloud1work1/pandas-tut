{
  "nbformat": 4,
  "nbformat_minor": 0,
  "metadata": {
    "colab": {
      "name": "Pandas1.ipynb",
      "provenance": [],
      "authorship_tag": "ABX9TyPtbX9dtmvX8e5wW9A2DCE7",
      "include_colab_link": true
    },
    "kernelspec": {
      "name": "python3",
      "display_name": "Python 3"
    }
  },
  "cells": [
    {
      "cell_type": "markdown",
      "metadata": {
        "id": "view-in-github",
        "colab_type": "text"
      },
      "source": [
        "<a href=\"https://colab.research.google.com/github/cloud1work1/pandas-tut/blob/main/Pandas1.ipynb\" target=\"_parent\"><img src=\"https://colab.research.google.com/assets/colab-badge.svg\" alt=\"Open In Colab\"/></a>"
      ]
    },
    {
      "cell_type": "code",
      "metadata": {
        "id": "CjRBkhHIwc38"
      },
      "source": [
        "import pandas as pd\r\n",
        "import numpy as np"
      ],
      "execution_count": 1,
      "outputs": []
    },
    {
      "cell_type": "code",
      "metadata": {
        "id": "hPCNVQF-wjKi",
        "colab": {
          "base_uri": "https://localhost:8080/"
        },
        "outputId": "9d611892-990a-4413-bc79-f146d40062ea"
      },
      "source": [
        "list = [1,2,4,6,10,7]\r\n",
        "series=pd.Series(list)\r\n",
        "series"
      ],
      "execution_count": 3,
      "outputs": [
        {
          "output_type": "execute_result",
          "data": {
            "text/plain": [
              "0     1\n",
              "1     2\n",
              "2     4\n",
              "3     6\n",
              "4    10\n",
              "5     7\n",
              "dtype: int64"
            ]
          },
          "metadata": {
            "tags": []
          },
          "execution_count": 3
        }
      ]
    },
    {
      "cell_type": "code",
      "metadata": {
        "colab": {
          "base_uri": "https://localhost:8080/"
        },
        "id": "S0jvbwluyyc_",
        "outputId": "b50e4b37-2375-46b4-fd9d-7b7b7f36129c"
      },
      "source": [
        "dict = {'a':'m', 'b':'i', 'c':'t', 'd':'c', 'e':'h', 'f':'l'}\r\n",
        "series2=pd.Series(dict)\r\n",
        "series2"
      ],
      "execution_count": 4,
      "outputs": [
        {
          "output_type": "execute_result",
          "data": {
            "text/plain": [
              "a    m\n",
              "b    i\n",
              "c    t\n",
              "d    c\n",
              "e    h\n",
              "f    l\n",
              "dtype: object"
            ]
          },
          "metadata": {
            "tags": []
          },
          "execution_count": 4
        }
      ]
    },
    {
      "cell_type": "code",
      "metadata": {
        "colab": {
          "base_uri": "https://localhost:8080/"
        },
        "id": "0a3KWac6zWtc",
        "outputId": "18c58337-d45e-48a7-e38e-58397ac57226"
      },
      "source": [
        "scalarSeries = pd.Series(8, index=[1,2,3,4,5])\r\n",
        "scalarSeries"
      ],
      "execution_count": 5,
      "outputs": [
        {
          "output_type": "execute_result",
          "data": {
            "text/plain": [
              "1    8\n",
              "2    8\n",
              "3    8\n",
              "4    8\n",
              "5    8\n",
              "dtype: int64"
            ]
          },
          "metadata": {
            "tags": []
          },
          "execution_count": 5
        }
      ]
    },
    {
      "cell_type": "code",
      "metadata": {
        "colab": {
          "base_uri": "https://localhost:8080/"
        },
        "id": "GrrNl8QK0zqO",
        "outputId": "766e9eba-7c8e-4c1f-85c2-19005beef246"
      },
      "source": [
        "# All values are NaN\r\n",
        "seriesIndex = pd.Series(dict, index=[1,2,3])\r\n",
        "seriesIndex \r\n"
      ],
      "execution_count": 9,
      "outputs": [
        {
          "output_type": "execute_result",
          "data": {
            "text/plain": [
              "1    NaN\n",
              "2    NaN\n",
              "3    NaN\n",
              "dtype: object"
            ]
          },
          "metadata": {
            "tags": []
          },
          "execution_count": 9
        }
      ]
    },
    {
      "cell_type": "code",
      "metadata": {
        "colab": {
          "base_uri": "https://localhost:8080/"
        },
        "id": "QR-ed3OR1wbg",
        "outputId": "9a50304c-55a5-4eff-a801-6e11980e34f4"
      },
      "source": [
        "# Only values matching index\r\n",
        "dictN = {1:'a', 2:'j', 3:'i', 4:'n',5:'k',6:'y',7:'a'}\r\n",
        "seriesIndex=pd.Series(dictN,index=[1,2,4])\r\n",
        "seriesIndex"
      ],
      "execution_count": 10,
      "outputs": [
        {
          "output_type": "execute_result",
          "data": {
            "text/plain": [
              "1    a\n",
              "2    j\n",
              "4    n\n",
              "dtype: object"
            ]
          },
          "metadata": {
            "tags": []
          },
          "execution_count": 10
        }
      ]
    }
  ]
}